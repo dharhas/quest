{
 "cells": [
  {
   "cell_type": "markdown",
   "metadata": {},
   "source": [
    "# Installation Instructions\n",
    "\n",
    "Clone the repos, install dependencies and install packages terrapin, quest and gsshapy.\n",
    "\n",
    "Note: terrapin isn't used in this example but it will be in future examples...\n",
    "\n",
    "```bash\n",
    "git clone git@public.git.erdc.dren.mil:computational-analysis-and-mechanics/quest.git\n",
    "git clone git@public.git.erdc.dren.mil:computational-analysis-and-mechanics/terrapin.git\n",
    "git clone git@github.com:CI-WATER/gsshapy.git\n",
    "\n",
    "conda env create -n earthsim -f ./terrapin/py3_conda_environment.yml\n",
    "conda env update -n earthsim -f ./quest/py3_conda_environment.yml\n",
    "conda env update -n earthsim -f ./gsshapy/conda_env.yml\n",
    "source activate earthsim\n",
    "\n",
    "cd terrapin\n",
    "python setup.py develop\n",
    "cd ../quest\n",
    "python setup.py develop\n",
    "cd ../gsshapy\n",
    "python setup.py develop\n",
    "```\n"
   ]
  },
  {
   "cell_type": "code",
   "execution_count": null,
   "metadata": {},
   "outputs": [],
   "source": [
    "from datetime import datetime, timedelta\n",
    "import os\n",
    "\n",
    "import geopandas as gpd\n",
    "from gsshapy.modeling import GSSHAModel\n",
    "import quest"
   ]
  },
  {
   "cell_type": "markdown",
   "metadata": {},
   "source": [
    "Function to automate the downloading process:"
   ]
  },
  {
   "cell_type": "code",
   "execution_count": null,
   "metadata": {
    "collapsed": true
   },
   "outputs": [],
   "source": [
    "def download_data(service_uri, bounds, collection_name):\n",
    "    \"\"\"\n",
    "    Downloads raster data from source uri and adds to a quest collection.\n",
    "    \n",
    "    If multiple raster tiles are retrieved for the given bounds it calls a quest \n",
    "    filter to merge the tiles into a single raster.\n",
    "    \"\"\"\n",
    "    \n",
    "    # download the features (i.e. locations) and metadata for the given web service\n",
    "    # the first time this is run it will take longer since it downloads \n",
    "    # and caches all metadata for the given service.\n",
    "    features = quest.api.get_features(uris=service_uri,\n",
    "                                      filters={'bbox': bounds},\n",
    "                                      as_dataframe=True,\n",
    "                                      )\n",
    "    \n",
    "    # add the selected features to a quest collection\n",
    "    added_features = quest.api.add_features(collection_name, features)\n",
    "    \n",
    "    # stage the data for download, optional parameters can be provided here \n",
    "    # for certain web services (i.e. date range etc), raster services don't \n",
    "    # typically have any optional parameters.\n",
    "    staged_datasets = quest.api.stage_for_download(uris=added_features)\n",
    "    \n",
    "    # download the staged datasets\n",
    "    quest.api.download_datasets(datasets=staged_datasets)\n",
    "    final_datasets = staged_datasets\n",
    "    \n",
    "    # if more than one raster tile downloaded, merge into a single raster tile\n",
    "    if len(staged_datasets) > 1:\n",
    "        merged_datasets = quest.api.apply_filter(name='raster-merge',\n",
    "                                                 datasets=staged_datasets)\n",
    "        final_datasets = merged_datasets['datasets']\n",
    "        # delete the original individual tiles\n",
    "        quest.api.delete(staged_datasets)\n",
    "\n",
    "    # return file path of final geotiff\n",
    "    downloaded_datasets = quest.api.get_metadata(final_datasets)\n",
    "    downloaded_file_paths = [dataset['file_path'] for dataset\n",
    "                             in downloaded_datasets.values()]\n",
    "    return downloaded_file_paths[0]"
   ]
  },
  {
   "cell_type": "markdown",
   "metadata": {},
   "source": [
    "Parameters to change for the run:"
   ]
  },
  {
   "cell_type": "code",
   "execution_count": null,
   "metadata": {
    "collapsed": true
   },
   "outputs": [],
   "source": [
    "elevation_service = 'svc://usgs-ned:13-arc-second'\n",
    "land_use_service = 'svc://usgs-nlcd:2011'\n",
    "land_use_grid_id = 'nlcd'\n",
    "base_dir = os.getcwd() # path needs to be absolute for gsshapy\n",
    "boundary_shapefile = os.path.join(base_dir, 'vicksburg_watershed', 'watershed_boundary.shp')\n",
    "gssha_model_name = 'vicksburg_south'\n",
    "gssha_model_directory = os.path.join(base_dir, gssha_model_name)"
   ]
  },
  {
   "cell_type": "markdown",
   "metadata": {},
   "source": [
    "Get the download boundary from the shapefile:"
   ]
  },
  {
   "cell_type": "code",
   "execution_count": null,
   "metadata": {
    "collapsed": true
   },
   "outputs": [],
   "source": [
    "boundary_gpd = gpd.read_file(boundary_shapefile)\n",
    "bounds = [str(x) for x in boundary_gpd.geometry.bounds.values[0]]"
   ]
  },
  {
   "cell_type": "markdown",
   "metadata": {},
   "source": [
    "The collection is where we will origanize the downloaded data."
   ]
  },
  {
   "cell_type": "code",
   "execution_count": null,
   "metadata": {},
   "outputs": [],
   "source": [
    "try:\n",
    "    quest.api.new_collection(gssha_model_name)\n",
    "except ValueError as e:\n",
    "    print(e)"
   ]
  },
  {
   "cell_type": "markdown",
   "metadata": {},
   "source": [
    "Download the data. This may take some time."
   ]
  },
  {
   "cell_type": "code",
   "execution_count": null,
   "metadata": {
    "scrolled": true
   },
   "outputs": [],
   "source": [
    "elevation_file_path = download_data(elevation_service, bounds, gssha_model_name)"
   ]
  },
  {
   "cell_type": "code",
   "execution_count": null,
   "metadata": {
    "collapsed": true
   },
   "outputs": [],
   "source": [
    "land_use_file_path = download_data(land_use_service, bounds, gssha_model_name)"
   ]
  },
  {
   "cell_type": "markdown",
   "metadata": {},
   "source": [
    "Use the data to generate a GSSHA model. This may take a minute."
   ]
  },
  {
   "cell_type": "code",
   "execution_count": null,
   "metadata": {
    "collapsed": true
   },
   "outputs": [],
   "source": [
    "# make the directory for the output\n",
    "try:\n",
    "    os.mkdir(gssha_model_directory)\n",
    "except OSError:\n",
    "    pass\n",
    "\n",
    "# generate GSSHA model files\n",
    "model = GSSHAModel(project_name=gssha_model_name,\n",
    "                   project_directory=gssha_model_directory,\n",
    "                   mask_shapefile=boundary_shapefile,\n",
    "                   elevation_grid_path=elevation_file_path,\n",
    "                   land_use_grid=land_use_file_path,\n",
    "                   land_use_grid_id=land_use_grid_id,\n",
    "                   out_hydrograph_write_frequency=1,\n",
    "                   roughness=0.04,\n",
    "                   )\n",
    "\n",
    "# add card for max depth\n",
    "model.project_manager.setCard('FLOOD_GRID',\n",
    "                              '{0}.fgd'.format(gssha_model_name),\n",
    "                              add_quotes=True)\n",
    "# TODO: Add depth grids to simulation\n",
    "# MAP_FREQ, DEPTH\n",
    "\n",
    "# add event for simulation\n",
    "model.set_event(simulation_start=datetime.utcnow(),\n",
    "                simulation_duration=timedelta(seconds=2*60),\n",
    "                rain_intensity=24,\n",
    "                rain_duration=timedelta(seconds=1*60),\n",
    "                )\n",
    "model.write()"
   ]
  },
  {
   "cell_type": "code",
   "execution_count": 14,
   "metadata": {},
   "outputs": [
    {
     "name": "stdout",
     "output_type": "stream",
     "text": [
      "Help on class GSSHAModel in module gsshapy.modeling.model:\n",
      "\n",
      "class GSSHAModel(builtins.object)\n",
      " |  This class manages the generation and modification of\n",
      " |  models for GSSHA.\n",
      " |  \n",
      " |  Parameters:\n",
      " |       project_directory(str): Directory to write GSSHA project files to.\n",
      " |       project_name(Optional[str]): Name of GSSHA project. Required for new model.\n",
      " |       mask_shapefile(Optional[str]): Path to watershed boundary shapefile. Required for new model.\n",
      " |       grid_cell_size(Optional[str]): Cell size of model (meters). Required for new model.\n",
      " |       elevation_grid_path(Optional[str]): Path to elevation raster used for GSSHA grid. Required for new model.\n",
      " |       simulation_timestep(Optional[float]): Overall model timestep (seconds). Sets TIMESTEP card. Required for new model.\n",
      " |       out_hydrograph_write_frequency(Optional[str]): Frequency of writing to hydrograph (minutes). Sets HYD_FREQ card. Required for new model.\n",
      " |       roughness(Optional[float]): Value of uniform manning's n roughness for grid. Mutually exlusive with land use roughness. Required for new model.\n",
      " |       land_use_grid(Optional[str]): Path to land use grid to use for roughness. Mutually exlusive with roughness. Required for new model.\n",
      " |       land_use_grid_id(Optional[str]): ID of default grid supported in GSSHApy. Mutually exlusive with roughness. Required for new model.\n",
      " |       land_use_to_roughness_table(Optional[str]): Path to land use to roughness table. Use if not using land_use_grid_id. Mutually exlusive with roughness. Required for new model.\n",
      " |       db_session(Optional[database session]): Active database session object. Required for existing model.\n",
      " |       project_manager(Optional[ProjectFile]): Initialized ProjectFile object. Required for existing model.\n",
      " |  \n",
      " |  Model Generation Example:\n",
      " |  \n",
      " |  .. code:: python\n",
      " |  \n",
      " |      from datetime import datetime, timedelta\n",
      " |      from gsshapy.modeling import GSSHAModel\n",
      " |  \n",
      " |      model = GSSHAModel(project_name=\"gssha_project\",\n",
      " |                         project_directory=\"/path/to/gssha_project\",\n",
      " |                         mask_shapefile=\"/path/to/watershed_boundary.shp\",\n",
      " |                         grid_cell_size=1000,\n",
      " |                         elevation_grid_path=\"/path/to/elevation.tif\",\n",
      " |                         simulation_timestep=10,\n",
      " |                         out_hydrograph_write_frequency=15,\n",
      " |                         land_use_grid='/path/to/land_use.tif',\n",
      " |                         land_use_grid_id='glcf',\n",
      " |                         )\n",
      " |      model.set_event(simulation_start=datetime(2017, 2, 28, 14, 33),\n",
      " |                      simulation_duration=timedelta(seconds=180*60),\n",
      " |                      rain_intensity=2.4,\n",
      " |                      rain_duration=timedelta(seconds=30*60),\n",
      " |                      )\n",
      " |      model.write()\n",
      " |  \n",
      " |  Methods defined here:\n",
      " |  \n",
      " |  __init__(self, project_directory, project_name=None, mask_shapefile=None, grid_cell_size=None, elevation_grid_path=None, simulation_timestep=30, out_hydrograph_write_frequency=10, roughness=None, land_use_grid=None, land_use_grid_id=None, land_use_to_roughness_table=None, db_session=None, project_manager=None)\n",
      " |      Initialize self.  See help(type(self)) for accurate signature.\n",
      " |  \n",
      " |  set_elevation(self, elevation_grid_path, mask_shapefile)\n",
      " |      Adds elevation file to project\n",
      " |  \n",
      " |  set_event(self, simulation_start=None, simulation_duration=None, simulation_end=None, rain_intensity=2, rain_duration=datetime.timedelta(0, 1800), event_type='EVENT')\n",
      " |      Initializes event for GSSHA model\n",
      " |  \n",
      " |  set_mask_from_shapefile(self, shapefile_path, cell_size)\n",
      " |      Adds a mask from a shapefile\n",
      " |  \n",
      " |  set_outlet(self, latitude, longitude, outslope)\n",
      " |      Adds outlet point to project\n",
      " |  \n",
      " |  set_roughness(self, roughness=None, land_use_grid=None, land_use_grid_id=None, land_use_to_roughness_table=None)\n",
      " |      ADD ROUGHNESS FROM LAND COVER\n",
      " |      See: http://www.gsshawiki.com/Project_File:Overland_Flow_%E2%80%93_Required\n",
      " |  \n",
      " |  write(self)\n",
      " |      Write project to directory\n",
      " |  \n",
      " |  ----------------------------------------------------------------------\n",
      " |  Data descriptors defined here:\n",
      " |  \n",
      " |  __dict__\n",
      " |      dictionary for instance variables (if defined)\n",
      " |  \n",
      " |  __weakref__\n",
      " |      list of weak references to the object (if defined)\n",
      "\n"
     ]
    }
   ],
   "source": [
    "help(GSSHAModel)"
   ]
  }
 ],
 "metadata": {
  "kernelspec": {
   "display_name": "Python 3",
   "language": "python",
   "name": "python3"
  },
  "language_info": {
   "codemirror_mode": {
    "name": "ipython",
    "version": 3
   },
   "file_extension": ".py",
   "mimetype": "text/x-python",
   "name": "python",
   "nbconvert_exporter": "python",
   "pygments_lexer": "ipython3",
   "version": "3.5.3"
  }
 },
 "nbformat": 4,
 "nbformat_minor": 2
}
